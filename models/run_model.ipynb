{
 "cells": [
  {
   "cell_type": "code",
   "execution_count": null,
   "id": "35c1e81b",
   "metadata": {},
   "outputs": [],
   "source": [
    "import trainer\n",
    "import evaluator\n",
    "\n",
    "sen1 = 'incorrect'\n",
    "sen2 = 'explanation'\n",
    "addit = 0\n",
    "trainer = Trainer(data_path = '../../data/generated/multitask/separate/ecqa_train_bert.csv', \n",
    "                  save_path = 'ECQA/Gen3_notft',\n",
    "                  num_labels = 3,\n",
    "                  #model_path = 'eSNLI/Gen3', \n",
    "                  #split = [0.25,0.5],\n",
    "                  num_epochs = 3, \n",
    "                  batch_size = 16,\n",
    "                  stratify = 'decrease')\n",
    "trainer.train(save = True)#, evaluator=evaluator)\n",
    "\n",
    "\n",
    "from transformers import BertForSequenceClassification\n",
    "model = BertForSequenceClassification.from_pretrained('ECQA/Gen3')\n",
    "evaluator = Evaluator(data_path = '../../data/tokenized/bert/ecqa/test.csv', \n",
    "#evaluator = Evaluator(data_path = '../../data/generated/multitask/separate/ecqa_test_bert.csv', \n",
    "                          #split = [0.4,0.6], \n",
    "                          batch_size = 32)"
   ]
  }
 ],
 "metadata": {
  "kernelspec": {
   "display_name": "Python 3 (ipykernel)",
   "language": "python",
   "name": "python3"
  },
  "language_info": {
   "codemirror_mode": {
    "name": "ipython",
    "version": 3
   },
   "file_extension": ".py",
   "mimetype": "text/x-python",
   "name": "python",
   "nbconvert_exporter": "python",
   "pygments_lexer": "ipython3",
   "version": "3.8.5"
  }
 },
 "nbformat": 4,
 "nbformat_minor": 5
}
