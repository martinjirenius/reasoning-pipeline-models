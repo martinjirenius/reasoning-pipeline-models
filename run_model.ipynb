{
 "cells": [
  {
   "cell_type": "markdown",
   "id": "795dd3c8",
   "metadata": {},
   "source": [
    "Training Example"
   ]
  },
  {
   "cell_type": "code",
   "execution_count": null,
   "id": "183546ec",
   "metadata": {},
   "outputs": [],
   "source": [
    "import trainer\n",
    "\n",
    "task = 'ecqa'\n",
    "training_set_path = '../../data/generated/multitask/separate/ecqa_train_gpt.csv'\n",
    "training_save_path = 'ecqa_Gen2_notft'\n",
    "\n",
    "trainer = Trainer(data_paths = [(training_set_path, task)],\n",
    "                  save_path = training_save_path,\n",
    "                  num_epochs = 3, \n",
    "                  batch_size = 4,\n",
    "                  stratify = 'decrease')\n",
    "trainer.train(True)\n",
    "trainer.model.save_pretrained(trainer.save_path)"
   ]
  },
  {
   "cell_type": "markdown",
   "id": "12f12684",
   "metadata": {},
   "source": [
    "Generator Example"
   ]
  },
  {
   "cell_type": "code",
   "execution_count": null,
   "id": "76617ad7",
   "metadata": {},
   "outputs": [],
   "source": [
    "import generator\n",
    "\n",
    "task = 'ecqa'\n",
    "generator_set_path = '../../data/tokenized/gpt2/ecqa/train.csv'\n",
    "generator_save_path = '../../data/generated/multitask/separate/ecqa_train.json'\n",
    "\n",
    "generator = Generator(data_paths = [(generator_set_path, task)],\n",
    "                      save_paths =  [generator_save_path],\n",
    "                      batch_size = 8,\n",
    "                      gold_explanations = False)\n",
    "generator.generate(model, save = True)"
   ]
  },
  {
   "cell_type": "markdown",
   "id": "3116a1a9",
   "metadata": {},
   "source": [
    "Evaluator Example"
   ]
  },
  {
   "cell_type": "code",
   "execution_count": null,
   "id": "651f9f9a",
   "metadata": {},
   "outputs": [],
   "source": [
    "import evaluator\n",
    "\n",
    "task = 'ecqa'\n",
    "evaluator_set_path = '../../data/generated/multitask/separate/ecqa_test_gpt.csv'\n",
    "\n",
    "evaluator = Evaluator(data_paths = [(evaluator_set_path, task)],\n",
    "                      batch_size = 8)\n",
    "model = GPT2ForMultiTaskLearning.from_pretrained('ECQA/GPT2MultiTask')\n",
    "evaluator.evaluate(model)"
   ]
  }
 ],
 "metadata": {
  "kernelspec": {
   "display_name": "Python 3 (ipykernel)",
   "language": "python",
   "name": "python3"
  },
  "language_info": {
   "codemirror_mode": {
    "name": "ipython",
    "version": 3
   },
   "file_extension": ".py",
   "mimetype": "text/x-python",
   "name": "python",
   "nbconvert_exporter": "python",
   "pygments_lexer": "ipython3",
   "version": "3.8.5"
  }
 },
 "nbformat": 4,
 "nbformat_minor": 5
}
